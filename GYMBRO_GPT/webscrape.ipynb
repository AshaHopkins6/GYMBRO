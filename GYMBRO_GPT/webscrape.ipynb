{
 "cells": [
  {
   "cell_type": "code",
   "execution_count": 1,
   "metadata": {},
   "outputs": [],
   "source": [
    "import requests\n",
    "from bs4 import BeautifulSoup"
   ]
  },
  {
   "cell_type": "code",
   "execution_count": 2,
   "metadata": {},
   "outputs": [
    {
     "data": {
      "text/plain": [
       "'html\\n\\n\\n\\n\\n\\n\\n\\n\\n\\n\\n\\n\\nWhy can’t I lose weight? | The Fitness Wiki\\n\\n\\n\\n\\n\\n\\n\\n\\n\\n\\n\\n\\n\\n\\n\\n\\n\\n\\n\\n\\n\\n\\n\\n\\n\\n\\n\\n\\n\\n\\n\\n\\n\\n\\n\\n\\n\\n\\n\\n\\n\\n\\n\\n\\n\\n\\n\\n\\n\\n\\n\\n\\n\\n\\n\\n\\n\\n\\n\\n\\n\\n\\n\\n\\n\\n\\n\\n\\n\\n\\n\\n\\n\\n\\n\\n\\n\\n\\n \\n\\n\\n\\n\\n Jetpack Open Graph Tags \\n\\n\\n\\n\\n\\n\\n\\n\\n\\n\\n\\n\\n\\n\\n\\n\\n\\n\\n\\n\\n\\n\\n\\n\\n\\n\\n\\n\\n End Jetpack Open Graph Tags \\n\\n\\n\\n\\n\\n\\n\\n\\n\\n\\n\\n\\n\\n\\n\\n\\nSkip to content\\n\\n\\n\\n\\n\\n\\n\\n\\n\\n\\nThe Fitness Wiki\\n\\n\\nA wiki and hub for fitness information\\n\\n\\n .site-branding \\n\\n\\n\\n\\t\\t\\t\\t\\t\\tMenu\\t\\t\\t\\t\\t\\n .menu-toggle \\n\\n\\n .inner \\n\\n\\n #masthead \\n\\n\\n\\n\\n\\n\\nIndex\\n\\n\\nStarting Advice\\n\\n\\nGuided Tour\\n\\n\\nWeight/Fat Loss\\n\\n\\nMuscle Gain\\n\\n\\nWorkout Routines\\n\\n\\nFAQ\\n\\n\\n \\n .main-navigation \\n\\n\\n\\n\\n\\n\\n\\n\\n\\n\\n\\n\\n\\n\\nWhy can’t I lose weight?\\n \\n .entry-header \\n\\n\\n\\n\\nYou are not losing weight because you are not eating at a calorie deficit.\\n\\n\\nPlease read that again.\\n\\n\\nYou are not losing weight because you are not eating at a calorie deficit.\\n\\n\\nIt doesn’t matter what the TDEE calculator says. It doesn’t matter what your food logs say. It doesn’t matter what math you’ve done. Unless you’re living in a metabolic ward, every measurement and calculation you can make are all only imprecise\\xa0estimates,\\xa0no matter how meticulous you are. But the scale doesn’t lie.\\n\\n\\nYou must either eat less, or be more physically active. \\nCalorie balance really all there is to it\\n, and the chances that you have an undiagnosed metabolic disorder are vanishingly small. \\nThis 1992 study\\n demonstrates perfectly – all subjects with a history of difficulty losing weight had no significant variance in their metabolic rate (ie, they did not have “slow metabolisms”) and \\nwildly\\n under-reported the amount of calories they were eating and significantly over-estimated their activity levels.\\n\\n\\nEither you are over-estimating the amount of calories your body is using, or under-estimating the amount that you are eating. It’s easy to get tripped up, discouraged, or confused when you are trying very hard and not seeing results, but it is important to remember that weight loss is \\nentirely about\\xa0\\nachieving a calorie deficit\\n. You can be as meticulous in your tracking and calculating as humanly possible, but\\xa0\\nif you are not losing weight, you need to eat less\\n. Do not allow yourself to get so stuck staring at the trees of your calorie counting that you miss the forest of what your scale is telling you.\\n\\n\\nKeep in mind the following important points:\\n\\n\\n\\n\\nTDEE calculators are\\n an estimate only\\n and\\xa0\\nnever to be taken as gospel\\n if it’s in conflict with your results on the scale.\\n\\n\\nBodyweight can fluctuate by five pounds a day or more due to factors such as food, urine, feces, water, and glycogen. There is no need to be concerned just because your weight is not constantly moving downward. You should be tracking a trend over multiple weeks before worrying.\\n\\n\\nMany food tracking websites crowd source their nutritional info, and may not be totally accurate. Never take this information as gospel if it’s in conflict with your results on the scale.\\n\\n\\nIf you’ve recently started a low carb or ketogenic diet, you likely experienced a rapid up front loss of weight that slowed down significantly. This was water weight and glycogen stores – not true weight loss – and should not be used as a barometer for your future weight loss.\\n\\n\\n“Calorie burn” estimates (especially those that come from electronic devices or marketing materials for classes / gyms / workout methods) are generally wildly inaccurate and grossly overestimate the actual calorie usage of physical activity. It is all but guaranteed that you are not “burning” anywhere near as many calories as these numbers claim to tell you. You should avoid “eating back” calories based on those estimates or relying on them to reach a deficit.\\n\\n\\n\\n\\nFor more, it is strongly recommend reading the two articles below from Physiqonomics.\\n\\n\\n\\n\\nYou’re Not losing Fat Because You’re Eating Too Damn Much. Even When You Don’t Think You Are. Let Me Show You.\\n\\n\\nThe Best Fat Loss Article on the Motherfuckin’ Internet\\n\\n\\n\\n\\nIf you are\\xa0\\nabsolutely certain\\n\\xa0that you are eating in a way that should otherwise result in weight loss, but have stagnated over a long period of time, then you should consult with a doctor, as the only alternative is a disease or disorder that\\xa0\\nr/Fitness\\n\\xa0is not qualified to help you with.\\n\\n\\nIf You’re Already Using a Calorie Tracker\\n\\n\\nSites like MyFitnesPal (MFP), SparkPeople, LiveStrong, FatSecret, CalorieCount, and CalorieKing often crowd source their nutritional information from users without verifying their claims. There are many examples of entries under-reporting the actual calories and macros in a given product or item. This can result in you eating significantly more calories than you think are.\\n\\n\\nAlternatively,\\xa0\\nhttp://nutritiondata.self.com\\n\\xa0is not crowd sourced and can be trusted as a more reliable source of nutritional information of raw ingredients.\\n\\n\\nWhen eating out, try and find comparable commercial proxies for your dish. Corporate websites often post the nutrition data for their products. For example PF Chang’s, Pei Wei, or Panda Express can be used for Chinese food. Applebee’s, TGI Friday’s, or Chili’s can be used for American food. Subway, Quiznos, or Firehouse Subs can be used for Sandwiches.\\n\\n\\n .entry-content \\n\\n\\n #post-## \\n\\n\\n #main \\n\\n\\n #primary \\n\\n\\n\\n\\nSearch the Wiki:\\n\\n\\n\\n\\nSearch for:\\n\\n\\n\\n\\n\\n\\n\\n\\n\\r\\n\\tSearch \\nr/Fitness\\n posts:\\r\\n\\n\\n\\n\\n\\n\\n\\n\\n\\n\\n\\n\\n\\n\\n\\n\\r\\n\\tSearch \\nr/weightroom\\n posts:\\r\\n\\n\\n\\n\\n\\n\\n\\n\\n\\n\\n\\n\\n\\n\\n\\n\\r\\n\\tSearch \\nExamine\\n for supplement info:\\r\\n\\n\\n\\n\\n\\n\\n\\n #secondary \\n\\n\\n #content \\n\\n\\n\\n\\n\\n\\n\\n\\n\\n\\nDisclaimer\\n \\n .widget-area \\n\\n\\n .widget-areas \\n\\n\\n .footer-widgets \\n\\n\\n\\n\\n .site-info \\n\\n\\n #colophon \\n\\n\\n #content-wrapper \\n\\n\\n #page \\n\\n\\n \\n\\n\\n\\n\\n\\n\\n\\n\\n\\n\\n\\n\\n\\n\\n\\n\\n\\n\\n\\n\\n\\n\\n\\n\\n\\n\\n\\n\\tgenerated 34 seconds ago\\n\\tgenerated in 0.564 seconds\\n\\tserved from batcache in 0.001 seconds\\n\\texpires in 266 seconds\\n\\n\\n'"
      ]
     },
     "execution_count": 2,
     "metadata": {},
     "output_type": "execute_result"
    }
   ],
   "source": [
    "# Define the URL of the website you want to scrape\n",
    "url = 'https://thefitness.wiki/faq/why-cant-i-lose-weight/'\n",
    "\n",
    "# Send a GET request to the website and store the response\n",
    "response = requests.get(url)\n",
    "\n",
    "# Parse the HTML content of the response using BeautifulSoup\n",
    "soup = BeautifulSoup(response.content, 'html.parser')\n",
    "\n",
    "# Find all the text content on the page and store it in a list\n",
    "text_list = []\n",
    "for element in soup.find_all(text=True):\n",
    "    if element.parent.name not in ['script', 'style']:\n",
    "        text_list.append(element)\n",
    "\n",
    "# Join the list of text into a single string\n",
    "text = '\\n'.join(text_list)\n",
    "text"
   ]
  },
  {
   "cell_type": "code",
   "execution_count": 4,
   "metadata": {},
   "outputs": [
    {
     "data": {
      "text/plain": [
       "'html       why can’t i lose weight? | the fitness wiki                                           jetpack open graph tags                end jetpack open graph tags         skip to content      the fitness wiki  a wiki and hub for fitness information  .site-branding   menu .menu-toggle   .inner   #masthead    index  starting advice  guided tour  weight/fat loss  muscle gain  workout routines  faq   .main-navigation        why can’t i lose weight?  .entry-header   you are not losing weight because you are not eating at a calorie deficit.  please read that again.  you are not losing weight because you are not eating at a calorie deficit.  it doesn’t matter what the tdee calculator says. it doesn’t matter what your food logs say. it doesn’t matter what math you’ve done. unless you’re living in a metabolic ward, every measurement and calculation you can make are all only imprecise\\xa0estimates,\\xa0no matter how meticulous you are. but the scale doesn’t lie.  you must either eat less, or be more physically active. calorie balance really all there is to it , and the chances that you have an undiagnosed metabolic disorder are vanishingly small. this 1992 study demonstrates perfectly – all subjects with a history of difficulty losing weight had no significant variance in their metabolic rate (ie, they did not have “slow metabolisms”) and wildly under-reported the amount of calories they were eating and significantly over-estimated their activity levels.  either you are over-estimating the amount of calories your body is using, or under-estimating the amount that you are eating. it’s easy to get tripped up, discouraged, or confused when you are trying very hard and not seeing results, but it is important to remember that weight loss is entirely about\\xa0 achieving a calorie deficit . you can be as meticulous in your tracking and calculating as humanly possible, but\\xa0 if you are not losing weight, you need to eat less . do not allow yourself to get so stuck staring at the trees of your calorie counting that you miss the forest of what your scale is telling you.  keep in mind the following important points:   tdee calculators are an estimate only and\\xa0 never to be taken as gospel if it’s in conflict with your results on the scale.  bodyweight can fluctuate by five pounds a day or more due to factors such as food, urine, feces, water, and glycogen. there is no need to be concerned just because your weight is not constantly moving downward. you should be tracking a trend over multiple weeks before worrying.  many food tracking websites crowd source their nutritional info, and may not be totally accurate. never take this information as gospel if it’s in conflict with your results on the scale.  if you’ve recently started a low carb or ketogenic diet, you likely experienced a rapid up front loss of weight that slowed down significantly. this was water weight and glycogen stores – not true weight loss – and should not be used as a barometer for your future weight loss.  “calorie burn” estimates (especially those that come from electronic devices or marketing materials for classes / gyms / workout methods) are generally wildly inaccurate and grossly overestimate the actual calorie usage of physical activity. it is all but guaranteed that you are not “burning” anywhere near as many calories as these numbers claim to tell you. you should avoid “eating back” calories based on those estimates or relying on them to reach a deficit.   for more, it is strongly recommend reading the two articles below from physiqonomics.   you’re not losing fat because you’re eating too damn much. even when you don’t think you are. let me show you.  the best fat loss article on the motherfuckin’ internet   if you are\\xa0 absolutely certain \\xa0that you are eating in a way that should otherwise result in weight loss, but have stagnated over a long period of time, then you should consult with a doctor, as the only alternative is a disease or disorder that\\xa0 r/fitness \\xa0is not qualified to help you with.  if you’re already using a calorie tracker  sites like myfitnespal (mfp), sparkpeople, livestrong, fatsecret, caloriecount, and calorieking often crowd source their nutritional information from users without verifying their claims. there are many examples of entries under-reporting the actual calories and macros in a given product or item. this can result in you eating significantly more calories than you think are.  alternatively,\\xa0 http://nutritiondata.self.com \\xa0is not crowd sourced and can be trusted as a more reliable source of nutritional information of raw ingredients.  when eating out, try and find comparable commercial proxies for your dish. corporate websites often post the nutrition data for their products. for example pf chang’s, pei wei, or panda express can be used for chinese food. applebee’s, tgi friday’s, or chili’s can be used for american food. subway, quiznos, or firehouse subs can be used for sandwiches.  .entry-content   #post-##   #main   #primary   search the wiki:   search for:     search r/fitness posts:         search r/weightroom posts:         search examine for supplement info:     #secondary   #content      disclaimer  .widget-area   .widget-areas   .footer-widgets    .site-info   #colophon   #content-wrapper   #page                 generated 34 seconds ago generated in 0.564 seconds served from batcache in 0.001 seconds expires in 266 seconds'"
      ]
     },
     "execution_count": 4,
     "metadata": {},
     "output_type": "execute_result"
    }
   ],
   "source": [
    "# Preprocess the text\n",
    "def preprocess_text(text):\n",
    "    text = text.lower()\n",
    "    text = text.replace('\\n', ' ')\n",
    "    text = text.replace('\\r', '')\n",
    "    text = text.replace('\\t', '')\n",
    "    text = text.replace('  ', ' ')\n",
    "    text = text.strip()\n",
    "    return text\n",
    "preprocess_text(text)"
   ]
  }
 ],
 "metadata": {
  "kernelspec": {
   "display_name": "Python 3",
   "language": "python",
   "name": "python3"
  },
  "language_info": {
   "codemirror_mode": {
    "name": "ipython",
    "version": 3
   },
   "file_extension": ".py",
   "mimetype": "text/x-python",
   "name": "python",
   "nbconvert_exporter": "python",
   "pygments_lexer": "ipython3",
   "version": "3.8.5"
  },
  "orig_nbformat": 4,
  "vscode": {
   "interpreter": {
    "hash": "aee8b7b246df8f9039afb4144a1f6fd8d2ca17a180786b69acc140d282b71a49"
   }
  }
 },
 "nbformat": 4,
 "nbformat_minor": 2
}
